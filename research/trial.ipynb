{
 "cells": [
  {
   "cell_type": "code",
   "execution_count": 1,
   "metadata": {},
   "outputs": [],
   "source": [
    "d={\"a\":1,\"b\":2}"
   ]
  },
  {
   "cell_type": "code",
   "execution_count": 6,
   "metadata": {},
   "outputs": [],
   "source": [
    "from box import ConfigBox"
   ]
  },
  {
   "cell_type": "code",
   "execution_count": 5,
   "metadata": {},
   "outputs": [
    {
     "name": "stdout",
     "output_type": "stream",
     "text": [
      "Collecting git+https://github.com/cdgriffith/Box.git\n",
      "  Cloning https://github.com/cdgriffith/Box.git to /private/var/folders/60/qws7kk1n5cnczljyx8nbmcw00000gn/T/pip-req-build-t28r1ipm\n",
      "  Running command git clone --filter=blob:none --quiet https://github.com/cdgriffith/Box.git /private/var/folders/60/qws7kk1n5cnczljyx8nbmcw00000gn/T/pip-req-build-t28r1ipm\n",
      "  Resolved https://github.com/cdgriffith/Box.git to commit cc26a46869e0f134d66a88765b7e31a48cc60cc2\n",
      "  Preparing metadata (setup.py) ... \u001b[?25ldone\n",
      "\u001b[?25hBuilding wheels for collected packages: python-box\n",
      "  Building wheel for python-box (setup.py) ... \u001b[?25ldone\n",
      "\u001b[?25h  Created wheel for python-box: filename=python_box-7.1.1-py3-none-any.whl size=28981 sha256=be39c89f92365aec15dc8f055371bfa0c101c185a0cd0fd76ce6f8800248cb0b\n",
      "  Stored in directory: /private/var/folders/60/qws7kk1n5cnczljyx8nbmcw00000gn/T/pip-ephem-wheel-cache-9n9qeyf8/wheels/73/69/51/8db8270ff175efa4f9dee0f480679fbb3fe4c6d4b5635a8d74\n",
      "Successfully built python-box\n",
      "Installing collected packages: python-box\n",
      "Successfully installed python-box-7.1.1\n"
     ]
    }
   ],
   "source": [
    "!pip install git+https://github.com/cdgriffith/Box.git\n",
    "\n"
   ]
  },
  {
   "cell_type": "code",
   "execution_count": 8,
   "metadata": {},
   "outputs": [],
   "source": [
    "d2=ConfigBox({\"a\":1,\"b\":2})"
   ]
  },
  {
   "cell_type": "code",
   "execution_count": 9,
   "metadata": {},
   "outputs": [
    {
     "data": {
      "text/plain": [
       "1"
      ]
     },
     "execution_count": 9,
     "metadata": {},
     "output_type": "execute_result"
    }
   ],
   "source": [
    "d2.a"
   ]
  },
  {
   "cell_type": "code",
   "execution_count": null,
   "metadata": {},
   "outputs": [],
   "source": []
  }
 ],
 "metadata": {
  "kernelspec": {
   "display_name": "textS",
   "language": "python",
   "name": "python3"
  },
  "language_info": {
   "codemirror_mode": {
    "name": "ipython",
    "version": 3
   },
   "file_extension": ".py",
   "mimetype": "text/x-python",
   "name": "python",
   "nbconvert_exporter": "python",
   "pygments_lexer": "ipython3",
   "version": "3.11.5"
  },
  "orig_nbformat": 4
 },
 "nbformat": 4,
 "nbformat_minor": 2
}
